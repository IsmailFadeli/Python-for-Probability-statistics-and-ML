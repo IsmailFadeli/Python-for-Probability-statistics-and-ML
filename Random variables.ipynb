{
 "cells": [
  {
   "cell_type": "code",
   "execution_count": 4,
   "metadata": {
    "collapsed": true
   },
   "outputs": [
    {
     "data": {
      "text/plain": "                                        sm  d1  d2  pd1    p\n(1, 1)  <map object at 0x00000184E36DCCC8>   1   1  NaN  NaN\n(1, 2)  <map object at 0x00000184E36DCCC8>   1   2  NaN  NaN\n(1, 3)  <map object at 0x00000184E36DCCC8>   1   3  NaN  NaN\n(1, 4)  <map object at 0x00000184E36DCCC8>   1   4  NaN  NaN\n(1, 5)  <map object at 0x00000184E36DCCC8>   1   5  NaN  NaN",
      "text/html": "<div>\n<style scoped>\n    .dataframe tbody tr th:only-of-type {\n        vertical-align: middle;\n    }\n\n    .dataframe tbody tr th {\n        vertical-align: top;\n    }\n\n    .dataframe thead th {\n        text-align: right;\n    }\n</style>\n<table border=\"1\" class=\"dataframe\">\n  <thead>\n    <tr style=\"text-align: right;\">\n      <th></th>\n      <th>sm</th>\n      <th>d1</th>\n      <th>d2</th>\n      <th>pd1</th>\n      <th>p</th>\n    </tr>\n  </thead>\n  <tbody>\n    <tr>\n      <td>(1, 1)</td>\n      <td>&lt;map object at 0x00000184E36DCCC8&gt;</td>\n      <td>1</td>\n      <td>1</td>\n      <td>NaN</td>\n      <td>NaN</td>\n    </tr>\n    <tr>\n      <td>(1, 2)</td>\n      <td>&lt;map object at 0x00000184E36DCCC8&gt;</td>\n      <td>1</td>\n      <td>2</td>\n      <td>NaN</td>\n      <td>NaN</td>\n    </tr>\n    <tr>\n      <td>(1, 3)</td>\n      <td>&lt;map object at 0x00000184E36DCCC8&gt;</td>\n      <td>1</td>\n      <td>3</td>\n      <td>NaN</td>\n      <td>NaN</td>\n    </tr>\n    <tr>\n      <td>(1, 4)</td>\n      <td>&lt;map object at 0x00000184E36DCCC8&gt;</td>\n      <td>1</td>\n      <td>4</td>\n      <td>NaN</td>\n      <td>NaN</td>\n    </tr>\n    <tr>\n      <td>(1, 5)</td>\n      <td>&lt;map object at 0x00000184E36DCCC8&gt;</td>\n      <td>1</td>\n      <td>5</td>\n      <td>NaN</td>\n      <td>NaN</td>\n    </tr>\n  </tbody>\n</table>\n</div>"
     },
     "execution_count": 4,
     "metadata": {},
     "output_type": "execute_result"
    }
   ],
   "source": [
    "from pandas import DataFrame\n",
    "d = DataFrame(index=[(i,j) for i in range(1,7) for j in range(1,7)],\n",
    "              columns=['sm','d1','d2','pd1','p'])\n",
    "\n",
    "d.d1 = [i[0] for i in d.index]\n",
    "d.d2 = [i[1] for i in d.index]\n",
    "d.sm = map(sum, d.index)\n",
    "d.head(5)"
   ]
  }
 ],
 "metadata": {
  "kernelspec": {
   "display_name": "Python 3",
   "language": "python",
   "name": "python3"
  },
  "language_info": {
   "codemirror_mode": {
    "name": "ipython",
    "version": 2
   },
   "file_extension": ".py",
   "mimetype": "text/x-python",
   "name": "python",
   "nbconvert_exporter": "python",
   "pygments_lexer": "ipython2",
   "version": "2.7.6"
  }
 },
 "nbformat": 4,
 "nbformat_minor": 0
}