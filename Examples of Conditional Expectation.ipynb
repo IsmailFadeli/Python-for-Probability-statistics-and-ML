{
 "metadata": {
  "language_info": {
   "codemirror_mode": {
    "name": "ipython",
    "version": 3
   },
   "file_extension": ".py",
   "mimetype": "text/x-python",
   "name": "python",
   "nbconvert_exporter": "python",
   "pygments_lexer": "ipython3",
   "version": 3
  },
  "orig_nbformat": 2,
  "kernelspec": {
   "name": "python_defaultSpec_1596963092551",
   "display_name": "Python 3.7.4 64-bit ('base': conda)"
  }
 },
 "nbformat": 4,
 "nbformat_minor": 2,
 "cells": [
  {
   "cell_type": "markdown",
   "metadata": {},
   "source": [
    "# Worked examples of Conditional Expectation and Mean Squared Error\n",
    "$\\Gamma := 10X_(10) + 20X_(20) + 50X_(50)$\n"
   ]
  },
  {
   "cell_type": "code",
   "execution_count": 5,
   "metadata": {
    "tags": []
   },
   "outputs": [
    {
     "output_type": "stream",
     "name": "stdout",
     "text": "160/3\n"
    }
   ],
   "source": [
    "import sympy as S \n",
    "X10,X20,X50 = S.symbols('X10,X20,X50', real = True)\n",
    "xi = 10*X10 + 20*X20 + 50*X50\n",
    "eta = X10*X20*(1-X50)+X10*(1-X20)*(X50)+(1-X10)*X20*(X50)\n",
    "num=S.summation(xi*eta,(X10,0,1),(X20,0,1),(X50,0,1))\n",
    "den=S.summation(eta*eta,(X10,0,1),(X20,0,1),(X50,0,1))\n",
    "alpha=num/den\n",
    "print(alpha)"
   ]
  },
  {
   "cell_type": "code",
   "execution_count": null,
   "metadata": {},
   "outputs": [],
   "source": []
  }
 ]
}